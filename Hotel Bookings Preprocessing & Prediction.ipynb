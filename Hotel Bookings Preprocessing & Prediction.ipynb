{
 "cells": [
  {
   "cell_type": "code",
   "execution_count": 1,
   "metadata": {},
   "outputs": [],
   "source": [
    "import pandas as pd\n",
    "import matplotlib.pyplot as plt\n",
    "import seaborn as sns\n",
    "import numpy as np\n",
    "from scipy import stats\n",
    "sns.set_style('darkgrid')"
   ]
  },
  {
   "cell_type": "code",
   "execution_count": 2,
   "metadata": {},
   "outputs": [],
   "source": [
    "df = pd.read_csv('hotel_bookings.csv')\n",
    "\n",
    "# Drop company, agent, year, country\n",
    "df.drop(['company', 'agent', 'arrival_date_year', 'country', 'arrival_date_week_number', \n",
    "         'deposit_type', 'reservation_status', 'reservation_status_date'], \n",
    "         axis = 1, inplace = True)"
   ]
  },
  {
   "cell_type": "markdown",
   "metadata": {},
   "source": [
    "### Feature Engineering"
   ]
  },
  {
   "cell_type": "code",
   "execution_count": 3,
   "metadata": {},
   "outputs": [],
   "source": [
    "city = df[df['hotel'] == 'City Hotel'].copy()\n",
    "city.drop('hotel', axis = 1, inplace = True)\n",
    "\n",
    "# Aggregate day of month to week of month\n",
    "def day_to_week(x):\n",
    "    if x <= 7:\n",
    "        return '1st week'\n",
    "    elif x <= 14:\n",
    "        return '2nd week'\n",
    "    elif x <= 21:\n",
    "        return '3rd week'\n",
    "    else:\n",
    "        return '4th week'\n",
    "    \n",
    "city['arrival_date_week_of_month'] = city['arrival_date_day_of_month'].map(day_to_week)\n",
    "city.drop('arrival_date_day_of_month', axis = 1, inplace = True)\n",
    "\n",
    "# Aggregate week + weekend nights to total days of stay\n",
    "city['days_of_stay'] = city['stays_in_week_nights'] + city['stays_in_weekend_nights']\n",
    "city.drop(['stays_in_week_nights', 'stays_in_weekend_nights'], axis = 1, inplace = True)\n",
    "\n",
    "# Keep total days of stay that have a frequency larger than 40\n",
    "day_indices = []\n",
    "\n",
    "for value in city['days_of_stay'].unique():\n",
    "    if (city['days_of_stay'].value_counts()[value] < 40) | (value == 0):\n",
    "        day_indices += list(city[city['days_of_stay'] == value].index)\n",
    "\n",
    "city.drop(day_indices, inplace = True)\n",
    "city.reset_index(drop = True, inplace = True)\n",
    "\n",
    "# Aggregate children and babies\n",
    "city['kids'] = city['babies'] + city['children']\n",
    "city['kids'] = city['kids'].map(lambda x: 1 if x > 0 else 0)\n",
    "city.drop(['babies', 'children'], axis = 1, inplace = True)\n",
    "\n",
    "# Drop Undefined in market segment\n",
    "market_indices = city[city['market_segment'] == 'Undefined'].index\n",
    "city.drop(market_indices, inplace = True)\n",
    "city.reset_index(drop = True, inplace = True)\n",
    "\n",
    "# Drop Undefined in distribution_channel\n",
    "chanel_indices = city[city['distribution_channel'] == 'Undefined'].index\n",
    "city.drop(chanel_indices, inplace = True)\n",
    "city.reset_index(drop = True, inplace = True)\n",
    "\n",
    "# Previous bookings cancellations percentage\n",
    "def book(x):\n",
    "    if x[0]+x[1] != 0:\n",
    "        return round(x[0]/(x[0]+x[1]), 2)\n",
    "    else: \n",
    "        return 0\n",
    "    \n",
    "city['previous_bookings_cancel_percentage'] = city[['previous_cancellations', \n",
    "                                                    'previous_bookings_not_canceled']].apply(book, axis = 1)\n",
    "city.drop(['previous_cancellations', 'previous_bookings_not_canceled'], axis = 1, inplace = True)\n",
    "\n",
    "# Drop 'P' in reserved room type\n",
    "room_indices = city[city['reserved_room_type'] == 'P'].index\n",
    "city.drop(room_indices, inplace = True)\n",
    "city.reset_index(drop = True, inplace = True)\n",
    "\n",
    "# New column indicating if assigned room is different from reserved\n",
    "def room_change(x):\n",
    "    if x[0] != x[1]:\n",
    "        return 0\n",
    "    else: \n",
    "        return 1\n",
    "    \n",
    "city['room_change'] = city[['reserved_room_type', 'assigned_room_type']].apply(room_change, axis = 1)\n",
    "\n",
    "# Transform booking changes to binary\n",
    "city['booking_changes'] = city['booking_changes'].map(lambda x: 0 if x == 0 else 1)\n",
    "\n",
    "# Transform days waiting list to binary\n",
    "city['days_waiting_binary'] = city['days_in_waiting_list'].map(lambda x: 0 if x == 0 else 1)\n",
    "city.drop('days_in_waiting_list', axis = 1, inplace = True)\n",
    "\n",
    "# Transform car parking to binary\n",
    "city['required_car_parking_spaces'] = city['required_car_parking_spaces'].map(lambda x: 0 if x == 0 else 1)\n",
    "\n",
    "# Transform requests to binary\n",
    "city['total_request_binary'] = city['total_of_special_requests'].map(lambda x: 0 if x == 0 else 1)"
   ]
  },
  {
   "cell_type": "code",
   "execution_count": 4,
   "metadata": {},
   "outputs": [
    {
     "data": {
      "text/plain": [
       "is_canceled                              int64\n",
       "lead_time                                int64\n",
       "arrival_date_month                      object\n",
       "adults                                   int64\n",
       "meal                                    object\n",
       "market_segment                          object\n",
       "distribution_channel                    object\n",
       "is_repeated_guest                        int64\n",
       "reserved_room_type                      object\n",
       "assigned_room_type                      object\n",
       "booking_changes                          int64\n",
       "customer_type                           object\n",
       "adr                                    float64\n",
       "required_car_parking_spaces              int64\n",
       "total_of_special_requests                int64\n",
       "arrival_date_week_of_month              object\n",
       "days_of_stay                             int64\n",
       "kids                                     int64\n",
       "previous_bookings_cancel_percentage    float64\n",
       "room_change                              int64\n",
       "days_waiting_binary                      int64\n",
       "total_request_binary                     int64\n",
       "dtype: object"
      ]
     },
     "execution_count": 4,
     "metadata": {},
     "output_type": "execute_result"
    }
   ],
   "source": [
    "city.dtypes"
   ]
  },
  {
   "cell_type": "markdown",
   "metadata": {},
   "source": [
    "### Outlier Removal"
   ]
  },
  {
   "cell_type": "code",
   "execution_count": 5,
   "metadata": {},
   "outputs": [
    {
     "data": {
      "text/plain": [
       "<matplotlib.axes._subplots.AxesSubplot at 0x19caa81e708>"
      ]
     },
     "execution_count": 5,
     "metadata": {},
     "output_type": "execute_result"
    },
    {
     "data": {
      "image/png": "[encoded data removed]",
      "text/plain": [
       "<Figure size 576x360 with 1 Axes>"
      ]
     },
     "metadata": {},
     "output_type": "display_data"
    }
   ],
   "source": [
    "fig, axes = plt.subplots(figsize=(8,5))\n",
    "sns.boxplot(y = 'lead_time', x = 'is_canceled', data = city, palette=\"Set1\", ax = axes)"
   ]
  },
  {
   "cell_type": "code",
   "execution_count": 6,
   "metadata": {},
   "outputs": [
    {
     "data": {
      "text/plain": [
       "<matplotlib.axes._subplots.AxesSubplot at 0x19caaceaa08>"
      ]
     },
     "execution_count": 6,
     "metadata": {},
     "output_type": "execute_result"
    },
    {
     "data": {
      "image/png": "[encoded data removed]",
      "text/plain": [
       "<Figure size 576x360 with 1 Axes>"
      ]
     },
     "metadata": {},
     "output_type": "display_data"
    }
   ],
   "source": [
    "dum = city[city['is_canceled'] == 0].copy()\n",
    "q1 = dum['lead_time'].quantile(0.25)\n",
    "q3 = dum['lead_time'].quantile(0.75)\n",
    "iqr = q3 - q1\n",
    "low = q1 - 1.5 * iqr\n",
    "high = q3 + 1.5 * iqr\n",
    "drop_list = list(dum[((dum['lead_time'] > high) | (dum['lead_time'] < low))].index)\n",
    "\n",
    "city.drop(drop_list, inplace = True)\n",
    "city.reset_index(drop = True, inplace = True)\n",
    "\n",
    "dum = city[city['is_canceled'] == 1].copy()\n",
    "q1 = dum['lead_time'].quantile(0.25)\n",
    "q3 = dum['lead_time'].quantile(0.75)\n",
    "iqr = q3 - q1\n",
    "low = q1 - 1.5 * iqr\n",
    "high = q3 + 1.5 * iqr\n",
    "drop_list = list(dum[((dum['lead_time'] > high) | (dum['lead_time'] < low))].index)\n",
    "\n",
    "city.drop(drop_list, inplace = True)\n",
    "city.reset_index(drop = True, inplace = True)\n",
    "\n",
    "fig, axes = plt.subplots(figsize=(8,5))\n",
    "sns.boxplot(y = 'lead_time', x = 'is_canceled', data = city, palette=\"Set1\", ax = axes)"
   ]
  },
  {
   "cell_type": "code",
   "execution_count": 7,
   "metadata": {},
   "outputs": [
    {
     "data": {
      "text/plain": [
       "<matplotlib.axes._subplots.AxesSubplot at 0x19caf6df888>"
      ]
     },
     "execution_count": 7,
     "metadata": {},
     "output_type": "execute_result"
    },
    {
     "data": {
      "image/png": "[encoded data removed]",
      "text/plain": [
       "<Figure size 576x360 with 1 Axes>"
      ]
     },
     "metadata": {},
     "output_type": "display_data"
    }
   ],
   "source": [
    "fig, axes = plt.subplots(figsize=(8,5))\n",
    "sns.boxplot(y = 'previous_bookings_cancel_percentage', x = 'is_canceled', \n",
    "            data = city[city['previous_bookings_cancel_percentage'] != 0], \n",
    "            palette=\"Set1\", ax = axes)"
   ]
  },
  {
   "cell_type": "code",
   "execution_count": 8,
   "metadata": {},
   "outputs": [
    {
     "data": {
      "text/plain": [
       "<matplotlib.axes._subplots.AxesSubplot at 0x19caace2648>"
      ]
     },
     "execution_count": 8,
     "metadata": {},
     "output_type": "execute_result"
    },
    {
     "data": {
      "image/png": "[encoded data removed]",
      "text/plain": [
       "<Figure size 576x360 with 1 Axes>"
      ]
     },
     "metadata": {},
     "output_type": "display_data"
    }
   ],
   "source": [
    "dum = city[(city['is_canceled'] == 0) & (city['previous_bookings_cancel_percentage'] != 0)].copy()\n",
    "q1 = dum['previous_bookings_cancel_percentage'].quantile(0.25)\n",
    "q3 = dum['previous_bookings_cancel_percentage'].quantile(0.75)\n",
    "iqr = q3 - q1\n",
    "low = q1 - 1.5 * iqr\n",
    "high = q3 + 1.5 * iqr\n",
    "drop_list = list(dum[(dum['previous_bookings_cancel_percentage'] > high) | \n",
    "                      (dum['previous_bookings_cancel_percentage'] < low)].index)\n",
    "\n",
    "city.drop(drop_list, inplace = True)\n",
    "city.reset_index(drop = True, inplace = True)\n",
    "\n",
    "dum = city[(city['is_canceled'] == 1) & (city['previous_bookings_cancel_percentage'] != 0)].copy()\n",
    "q1 = dum['previous_bookings_cancel_percentage'].quantile(0.25)\n",
    "q3 = dum['previous_bookings_cancel_percentage'].quantile(0.75)\n",
    "iqr = q3 - q1\n",
    "low = q1 - 1.5 * iqr\n",
    "high = q3 + 1.5 * iqr\n",
    "drop_list = list(dum[(dum['previous_bookings_cancel_percentage'] > high) | \n",
    "                      (dum['previous_bookings_cancel_percentage'] < low)].index)\n",
    "\n",
    "city.drop(drop_list, inplace = True)\n",
    "city.reset_index(drop = True, inplace = True)\n",
    "\n",
    "fig, axes = plt.subplots(figsize=(8,5))\n",
    "sns.boxplot(y = 'previous_bookings_cancel_percentage', x = 'is_canceled', \n",
    "            data = city[city['previous_bookings_cancel_percentage'] != 0], \n",
    "            palette=\"Set1\", ax = axes)"
   ]
  },
  {
   "cell_type": "code",
   "execution_count": 9,
   "metadata": {},
   "outputs": [
    {
     "data": {
      "text/plain": [
       "(0, 1000)"
      ]
     },
     "execution_count": 9,
     "metadata": {},
     "output_type": "execute_result"
    },
    {
     "data": {
      "image/png": "[encoded data removed]",
      "text/plain": [
       "<Figure size 576x360 with 1 Axes>"
      ]
     },
     "metadata": {},
     "output_type": "display_data"
    }
   ],
   "source": [
    "fig, axes = plt.subplots(figsize=(8,5))\n",
    "sns.boxplot(y = 'adr', x = 'is_canceled', data = city, palette=\"Set1\", ax = axes)\n",
    "axes.set_ylim(0,1000)"
   ]
  },
  {
   "cell_type": "code",
   "execution_count": 10,
   "metadata": {},
   "outputs": [
    {
     "data": {
      "text/plain": [
       "<matplotlib.axes._subplots.AxesSubplot at 0x19caf74dac8>"
      ]
     },
     "execution_count": 10,
     "metadata": {},
     "output_type": "execute_result"
    },
    {
     "data": {
      "image/png": "[encoded data removed]",
      "text/plain": [
       "<Figure size 576x360 with 1 Axes>"
      ]
     },
     "metadata": {},
     "output_type": "display_data"
    }
   ],
   "source": [
    "dum = city[city['is_canceled'] == 0].copy()\n",
    "q1 = dum['adr'].quantile(0.25)\n",
    "q3 = dum['adr'].quantile(0.75)\n",
    "iqr = q3 - q1\n",
    "low = q1 - 1.5 * iqr\n",
    "high = q3 + 1.5 * iqr\n",
    "drop_list = list(dum[((dum['adr'] > high) | (dum['adr'] < low))].index)\n",
    "\n",
    "city.drop(drop_list, inplace = True)\n",
    "city.reset_index(drop = True, inplace = True)\n",
    "\n",
    "dum = city[city['is_canceled'] == 1].copy()\n",
    "q1 = dum['adr'].quantile(0.25)\n",
    "q3 = dum['adr'].quantile(0.75)\n",
    "iqr = q3 - q1\n",
    "low = q1 - 1.5 * iqr\n",
    "high = q3 + 1.5 * iqr\n",
    "drop_list = list(dum[((dum['adr'] > high) | (dum['adr'] < low))].index)\n",
    "\n",
    "city.drop(drop_list, inplace = True)\n",
    "city.reset_index(drop = True, inplace = True)\n",
    "\n",
    "fig, axes = plt.subplots(figsize=(8,5))\n",
    "sns.boxplot(y = 'adr', x = 'is_canceled', data = city, palette=\"Set1\", ax = axes)"
   ]
  },
  {
   "cell_type": "code",
   "execution_count": 11,
   "metadata": {},
   "outputs": [
    {
     "data": {
      "text/html": [
       "<div>\n",
       "<style scoped>\n",
       "    .dataframe tbody tr th:only-of-type {\n",
       "        vertical-align: middle;\n",
       "    }\n",
       "\n",
       "    .dataframe tbody tr th {\n",
       "        vertical-align: top;\n",
       "    }\n",
       "\n",
       "    .dataframe thead th {\n",
       "        text-align: right;\n",
       "    }\n",
       "</style>\n",
       "<table border=\"1\" class=\"dataframe\">\n",
       "  <thead>\n",
       "    <tr style=\"text-align: right;\">\n",
       "      <th></th>\n",
       "      <th>arrival_date_month</th>\n",
       "      <th>meal</th>\n",
       "      <th>market_segment</th>\n",
       "      <th>distribution_channel</th>\n",
       "      <th>reserved_room_type</th>\n",
       "      <th>assigned_room_type</th>\n",
       "      <th>customer_type</th>\n",
       "      <th>arrival_date_week_of_month</th>\n",
       "    </tr>\n",
       "  </thead>\n",
       "  <tbody>\n",
       "    <tr>\n",
       "      <th>0</th>\n",
       "      <td>July</td>\n",
       "      <td>BB</td>\n",
       "      <td>Online TA</td>\n",
       "      <td>TA/TO</td>\n",
       "      <td>A</td>\n",
       "      <td>A</td>\n",
       "      <td>Transient</td>\n",
       "      <td>1st week</td>\n",
       "    </tr>\n",
       "    <tr>\n",
       "      <th>1</th>\n",
       "      <td>July</td>\n",
       "      <td>BB</td>\n",
       "      <td>Online TA</td>\n",
       "      <td>TA/TO</td>\n",
       "      <td>A</td>\n",
       "      <td>A</td>\n",
       "      <td>Transient</td>\n",
       "      <td>1st week</td>\n",
       "    </tr>\n",
       "    <tr>\n",
       "      <th>2</th>\n",
       "      <td>July</td>\n",
       "      <td>BB</td>\n",
       "      <td>Online TA</td>\n",
       "      <td>TA/TO</td>\n",
       "      <td>A</td>\n",
       "      <td>A</td>\n",
       "      <td>Transient</td>\n",
       "      <td>1st week</td>\n",
       "    </tr>\n",
       "    <tr>\n",
       "      <th>3</th>\n",
       "      <td>July</td>\n",
       "      <td>BB</td>\n",
       "      <td>Online TA</td>\n",
       "      <td>TA/TO</td>\n",
       "      <td>A</td>\n",
       "      <td>A</td>\n",
       "      <td>Transient</td>\n",
       "      <td>1st week</td>\n",
       "    </tr>\n",
       "    <tr>\n",
       "      <th>4</th>\n",
       "      <td>July</td>\n",
       "      <td>BB</td>\n",
       "      <td>Online TA</td>\n",
       "      <td>TA/TO</td>\n",
       "      <td>A</td>\n",
       "      <td>A</td>\n",
       "      <td>Transient</td>\n",
       "      <td>1st week</td>\n",
       "    </tr>\n",
       "    <tr>\n",
       "      <th>...</th>\n",
       "      <td>...</td>\n",
       "      <td>...</td>\n",
       "      <td>...</td>\n",
       "      <td>...</td>\n",
       "      <td>...</td>\n",
       "      <td>...</td>\n",
       "      <td>...</td>\n",
       "      <td>...</td>\n",
       "    </tr>\n",
       "    <tr>\n",
       "      <th>73667</th>\n",
       "      <td>August</td>\n",
       "      <td>BB</td>\n",
       "      <td>Offline TA/TO</td>\n",
       "      <td>TA/TO</td>\n",
       "      <td>A</td>\n",
       "      <td>A</td>\n",
       "      <td>Transient</td>\n",
       "      <td>4th week</td>\n",
       "    </tr>\n",
       "    <tr>\n",
       "      <th>73668</th>\n",
       "      <td>August</td>\n",
       "      <td>BB</td>\n",
       "      <td>Offline TA/TO</td>\n",
       "      <td>TA/TO</td>\n",
       "      <td>A</td>\n",
       "      <td>A</td>\n",
       "      <td>Transient</td>\n",
       "      <td>4th week</td>\n",
       "    </tr>\n",
       "    <tr>\n",
       "      <th>73669</th>\n",
       "      <td>August</td>\n",
       "      <td>BB</td>\n",
       "      <td>Online TA</td>\n",
       "      <td>TA/TO</td>\n",
       "      <td>D</td>\n",
       "      <td>D</td>\n",
       "      <td>Transient</td>\n",
       "      <td>4th week</td>\n",
       "    </tr>\n",
       "    <tr>\n",
       "      <th>73670</th>\n",
       "      <td>August</td>\n",
       "      <td>BB</td>\n",
       "      <td>Online TA</td>\n",
       "      <td>TA/TO</td>\n",
       "      <td>A</td>\n",
       "      <td>A</td>\n",
       "      <td>Transient</td>\n",
       "      <td>4th week</td>\n",
       "    </tr>\n",
       "    <tr>\n",
       "      <th>73671</th>\n",
       "      <td>August</td>\n",
       "      <td>HB</td>\n",
       "      <td>Online TA</td>\n",
       "      <td>TA/TO</td>\n",
       "      <td>A</td>\n",
       "      <td>A</td>\n",
       "      <td>Transient</td>\n",
       "      <td>4th week</td>\n",
       "    </tr>\n",
       "  </tbody>\n",
       "</table>\n",
       "<p>73672 rows × 8 columns</p>\n",
       "</div>"
      ],
      "text/plain": [
       "      arrival_date_month meal market_segment distribution_channel  \\\n",
       "0                   July   BB      Online TA                TA/TO   \n",
       "1                   July   BB      Online TA                TA/TO   \n",
       "2                   July   BB      Online TA                TA/TO   \n",
       "3                   July   BB      Online TA                TA/TO   \n",
       "4                   July   BB      Online TA                TA/TO   \n",
       "...                  ...  ...            ...                  ...   \n",
       "73667             August   BB  Offline TA/TO                TA/TO   \n",
       "73668             August   BB  Offline TA/TO                TA/TO   \n",
       "73669             August   BB      Online TA                TA/TO   \n",
       "73670             August   BB      Online TA                TA/TO   \n",
       "73671             August   HB      Online TA                TA/TO   \n",
       "\n",
       "      reserved_room_type assigned_room_type customer_type  \\\n",
       "0                      A                  A     Transient   \n",
       "1                      A                  A     Transient   \n",
       "2                      A                  A     Transient   \n",
       "3                      A                  A     Transient   \n",
       "4                      A                  A     Transient   \n",
       "...                  ...                ...           ...   \n",
       "73667                  A                  A     Transient   \n",
       "73668                  A                  A     Transient   \n",
       "73669                  D                  D     Transient   \n",
       "73670                  A                  A     Transient   \n",
       "73671                  A                  A     Transient   \n",
       "\n",
       "      arrival_date_week_of_month  \n",
       "0                       1st week  \n",
       "1                       1st week  \n",
       "2                       1st week  \n",
       "3                       1st week  \n",
       "4                       1st week  \n",
       "...                          ...  \n",
       "73667                   4th week  \n",
       "73668                   4th week  \n",
       "73669                   4th week  \n",
       "73670                   4th week  \n",
       "73671                   4th week  \n",
       "\n",
       "[73672 rows x 8 columns]"
      ]
     },
     "execution_count": 11,
     "metadata": {},
     "output_type": "execute_result"
    }
   ],
   "source": [
    "city.select_dtypes(include = 'object')"
   ]
  },
  {
   "cell_type": "code",
   "execution_count": 12,
   "metadata": {},
   "outputs": [
    {
     "data": {
      "text/html": [
       "<div>\n",
       "<style scoped>\n",
       "    .dataframe tbody tr th:only-of-type {\n",
       "        vertical-align: middle;\n",
       "    }\n",
       "\n",
       "    .dataframe tbody tr th {\n",
       "        vertical-align: top;\n",
       "    }\n",
       "\n",
       "    .dataframe thead th {\n",
       "        text-align: right;\n",
       "    }\n",
       "</style>\n",
       "<table border=\"1\" class=\"dataframe\">\n",
       "  <thead>\n",
       "    <tr style=\"text-align: right;\">\n",
       "      <th></th>\n",
       "      <th>is_canceled</th>\n",
       "      <th>lead_time</th>\n",
       "      <th>adults</th>\n",
       "      <th>is_repeated_guest</th>\n",
       "      <th>booking_changes</th>\n",
       "      <th>adr</th>\n",
       "      <th>required_car_parking_spaces</th>\n",
       "      <th>total_of_special_requests</th>\n",
       "      <th>days_of_stay</th>\n",
       "      <th>kids</th>\n",
       "      <th>...</th>\n",
       "      <th>assigned_room_type_E</th>\n",
       "      <th>assigned_room_type_F</th>\n",
       "      <th>assigned_room_type_G</th>\n",
       "      <th>assigned_room_type_K</th>\n",
       "      <th>customer_type_Group</th>\n",
       "      <th>customer_type_Transient</th>\n",
       "      <th>customer_type_Transient-Party</th>\n",
       "      <th>arrival_date_week_of_month_2nd week</th>\n",
       "      <th>arrival_date_week_of_month_3rd week</th>\n",
       "      <th>arrival_date_week_of_month_4th week</th>\n",
       "    </tr>\n",
       "  </thead>\n",
       "  <tbody>\n",
       "    <tr>\n",
       "      <th>0</th>\n",
       "      <td>1</td>\n",
       "      <td>88</td>\n",
       "      <td>2</td>\n",
       "      <td>0</td>\n",
       "      <td>0</td>\n",
       "      <td>76.5</td>\n",
       "      <td>0</td>\n",
       "      <td>1</td>\n",
       "      <td>4</td>\n",
       "      <td>0</td>\n",
       "      <td>...</td>\n",
       "      <td>0</td>\n",
       "      <td>0</td>\n",
       "      <td>0</td>\n",
       "      <td>0</td>\n",
       "      <td>0</td>\n",
       "      <td>1</td>\n",
       "      <td>0</td>\n",
       "      <td>0</td>\n",
       "      <td>0</td>\n",
       "      <td>0</td>\n",
       "    </tr>\n",
       "    <tr>\n",
       "      <th>1</th>\n",
       "      <td>1</td>\n",
       "      <td>65</td>\n",
       "      <td>1</td>\n",
       "      <td>0</td>\n",
       "      <td>0</td>\n",
       "      <td>68.0</td>\n",
       "      <td>0</td>\n",
       "      <td>1</td>\n",
       "      <td>4</td>\n",
       "      <td>0</td>\n",
       "      <td>...</td>\n",
       "      <td>0</td>\n",
       "      <td>0</td>\n",
       "      <td>0</td>\n",
       "      <td>0</td>\n",
       "      <td>0</td>\n",
       "      <td>1</td>\n",
       "      <td>0</td>\n",
       "      <td>0</td>\n",
       "      <td>0</td>\n",
       "      <td>0</td>\n",
       "    </tr>\n",
       "    <tr>\n",
       "      <th>2</th>\n",
       "      <td>1</td>\n",
       "      <td>92</td>\n",
       "      <td>2</td>\n",
       "      <td>0</td>\n",
       "      <td>0</td>\n",
       "      <td>76.5</td>\n",
       "      <td>0</td>\n",
       "      <td>2</td>\n",
       "      <td>6</td>\n",
       "      <td>0</td>\n",
       "      <td>...</td>\n",
       "      <td>0</td>\n",
       "      <td>0</td>\n",
       "      <td>0</td>\n",
       "      <td>0</td>\n",
       "      <td>0</td>\n",
       "      <td>1</td>\n",
       "      <td>0</td>\n",
       "      <td>0</td>\n",
       "      <td>0</td>\n",
       "      <td>0</td>\n",
       "    </tr>\n",
       "    <tr>\n",
       "      <th>3</th>\n",
       "      <td>1</td>\n",
       "      <td>100</td>\n",
       "      <td>2</td>\n",
       "      <td>0</td>\n",
       "      <td>0</td>\n",
       "      <td>76.5</td>\n",
       "      <td>0</td>\n",
       "      <td>1</td>\n",
       "      <td>2</td>\n",
       "      <td>0</td>\n",
       "      <td>...</td>\n",
       "      <td>0</td>\n",
       "      <td>0</td>\n",
       "      <td>0</td>\n",
       "      <td>0</td>\n",
       "      <td>0</td>\n",
       "      <td>1</td>\n",
       "      <td>0</td>\n",
       "      <td>0</td>\n",
       "      <td>0</td>\n",
       "      <td>0</td>\n",
       "    </tr>\n",
       "    <tr>\n",
       "      <th>4</th>\n",
       "      <td>1</td>\n",
       "      <td>79</td>\n",
       "      <td>2</td>\n",
       "      <td>0</td>\n",
       "      <td>0</td>\n",
       "      <td>76.5</td>\n",
       "      <td>0</td>\n",
       "      <td>1</td>\n",
       "      <td>3</td>\n",
       "      <td>0</td>\n",
       "      <td>...</td>\n",
       "      <td>0</td>\n",
       "      <td>0</td>\n",
       "      <td>0</td>\n",
       "      <td>0</td>\n",
       "      <td>0</td>\n",
       "      <td>1</td>\n",
       "      <td>0</td>\n",
       "      <td>0</td>\n",
       "      <td>0</td>\n",
       "      <td>0</td>\n",
       "    </tr>\n",
       "  </tbody>\n",
       "</table>\n",
       "<p>5 rows × 56 columns</p>\n",
       "</div>"
      ],
      "text/plain": [
       "   is_canceled  lead_time  adults  is_repeated_guest  booking_changes   adr  \\\n",
       "0            1         88       2                  0                0  76.5   \n",
       "1            1         65       1                  0                0  68.0   \n",
       "2            1         92       2                  0                0  76.5   \n",
       "3            1        100       2                  0                0  76.5   \n",
       "4            1         79       2                  0                0  76.5   \n",
       "\n",
       "   required_car_parking_spaces  total_of_special_requests  days_of_stay  kids  \\\n",
       "0                            0                          1             4     0   \n",
       "1                            0                          1             4     0   \n",
       "2                            0                          2             6     0   \n",
       "3                            0                          1             2     0   \n",
       "4                            0                          1             3     0   \n",
       "\n",
       "   ...  assigned_room_type_E  assigned_room_type_F  assigned_room_type_G  \\\n",
       "0  ...                     0                     0                     0   \n",
       "1  ...                     0                     0                     0   \n",
       "2  ...                     0                     0                     0   \n",
       "3  ...                     0                     0                     0   \n",
       "4  ...                     0                     0                     0   \n",
       "\n",
       "   assigned_room_type_K  customer_type_Group  customer_type_Transient  \\\n",
       "0                     0                    0                        1   \n",
       "1                     0                    0                        1   \n",
       "2                     0                    0                        1   \n",
       "3                     0                    0                        1   \n",
       "4                     0                    0                        1   \n",
       "\n",
       "   customer_type_Transient-Party  arrival_date_week_of_month_2nd week  \\\n",
       "0                              0                                    0   \n",
       "1                              0                                    0   \n",
       "2                              0                                    0   \n",
       "3                              0                                    0   \n",
       "4                              0                                    0   \n",
       "\n",
       "   arrival_date_week_of_month_3rd week  arrival_date_week_of_month_4th week  \n",
       "0                                    0                                    0  \n",
       "1                                    0                                    0  \n",
       "2                                    0                                    0  \n",
       "3                                    0                                    0  \n",
       "4                                    0                                    0  \n",
       "\n",
       "[5 rows x 56 columns]"
      ]
     },
     "execution_count": 12,
     "metadata": {},
     "output_type": "execute_result"
    }
   ],
   "source": [
    "cat_columns = city.select_dtypes(include = 'object').columns\n",
    "dummies_df = pd.get_dummies(city[cat_columns], drop_first = True)\n",
    "city.drop(cat_columns, axis = 1, inplace = True)\n",
    "final = pd.concat([city, dummies_df], axis = 1)\n",
    "final.head()"
   ]
  },
  {
   "cell_type": "markdown",
   "metadata": {},
   "source": [
    "### Predictive Models"
   ]
  },
  {
   "cell_type": "code",
   "execution_count": 13,
   "metadata": {},
   "outputs": [],
   "source": [
    "# Import necessary packages\n",
    "from sklearn.preprocessing import StandardScaler\n",
    "from sklearn.pipeline import Pipeline\n",
    "from sklearn.model_selection import KFold\n",
    "from sklearn.model_selection import train_test_split\n",
    "from sklearn.model_selection import cross_validate\n",
    "from sklearn.model_selection import cross_val_score\n",
    "\n",
    "# Import metric\n",
    "from sklearn.metrics import roc_auc_score"
   ]
  },
  {
   "cell_type": "code",
   "execution_count": 14,
   "metadata": {},
   "outputs": [],
   "source": [
    "# Import models\n",
    "from sklearn.linear_model import LogisticRegression\n",
    "from sklearn.naive_bayes import GaussianNB\n",
    "from sklearn.neighbors import KNeighborsClassifier\n",
    "from sklearn.ensemble import RandomForestClassifier\n",
    "from sklearn.svm import SVC\n",
    "import xgboost as xgb\n",
    "import lightgbm as lgb"
   ]
  },
  {
   "cell_type": "code",
   "execution_count": 15,
   "metadata": {},
   "outputs": [],
   "source": [
    "# Split into train and test set\n",
    "X_train, X_test, y_train, y_test = train_test_split(final.drop('is_canceled', axis = 1), \n",
    "                                                    final['is_canceled'], shuffle = True,\n",
    "                                                    random_state = 7)\n",
    "\n",
    "# Define a function for evaluating the model, first a pipeline object is built, this is done\n",
    "# because in cross validation we want the fitting of the standard scaling to be appled only \n",
    "# to the train and not the validation set to avoid possible data leakage. \n",
    "# Cross validaton with 3 different metrics is applied and the mean and standard deviation\n",
    "# of each metric are computed.\n",
    "\n",
    "def model_eval(X, y, model):\n",
    "    \n",
    "    pipe = Pipeline([('scaler', StandardScaler()), ('model', model)])\n",
    "    cv = KFold(n_splits = 7, shuffle = True, random_state = 7)\n",
    "    results = cross_validate(pipe, X, y, cv = cv, scoring = 'roc_auc', n_jobs = -1)\n",
    "    \n",
    "    score = {}\n",
    "    score['value'] = np.mean(results['test_score'])\n",
    "    score['std'] = np.std(results['test_score'])\n",
    "    \n",
    "    message = 'roc_auc: {} (+/- {}) \\n'.format(score['value'], score['std'])\n",
    "    \n",
    "    evaluation = {'metric':score, 'evaluation results':message}\n",
    "    return evaluation"
   ]
  },
  {
   "cell_type": "code",
   "execution_count": 16,
   "metadata": {},
   "outputs": [
    {
     "name": "stdout",
     "output_type": "stream",
     "text": [
      "roc_auc: 0.8594347492944218 (+/- 0.003564675895174741) \n",
      "\n",
      "Wall time: 3.49 s\n"
     ]
    }
   ],
   "source": [
    "%%time\n",
    "\n",
    "lr_eval = model_eval(X_train, y_train, LogisticRegression())\n",
    "print(lr_eval['evaluation results'])"
   ]
  },
  {
   "cell_type": "code",
   "execution_count": 17,
   "metadata": {},
   "outputs": [
    {
     "name": "stdout",
     "output_type": "stream",
     "text": [
      "roc_auc: 0.8017191018331442 (+/- 0.006069313363944749) \n",
      "\n",
      "Wall time: 1.19 s\n"
     ]
    }
   ],
   "source": [
    "%%time\n",
    "\n",
    "nb_eval = model_eval(X_train, y_train, GaussianNB())\n",
    "print(nb_eval['evaluation results'])"
   ]
  },
  {
   "cell_type": "code",
   "execution_count": 18,
   "metadata": {},
   "outputs": [
    {
     "name": "stdout",
     "output_type": "stream",
     "text": [
      "roc_auc: 0.883219213830131 (+/- 0.004761556276632814) \n",
      "\n",
      "Wall time: 1min\n"
     ]
    }
   ],
   "source": [
    "%%time\n",
    "\n",
    "knn_eval = model_eval(X_train, y_train, KNeighborsClassifier())\n",
    "print(knn_eval['evaluation results'])"
   ]
  },
  {
   "cell_type": "code",
   "execution_count": 19,
   "metadata": {},
   "outputs": [
    {
     "name": "stdout",
     "output_type": "stream",
     "text": [
      "roc_auc: 0.9297376743586397 (+/- 0.0025905862358325854) \n",
      "\n",
      "Wall time: 10.7 s\n"
     ]
    }
   ],
   "source": [
    "%%time\n",
    "\n",
    "rf_eval = model_eval(X_train, y_train, RandomForestClassifier(random_state = 8))\n",
    "print(rf_eval['evaluation results'])"
   ]
  },
  {
   "cell_type": "code",
   "execution_count": 20,
   "metadata": {},
   "outputs": [
    {
     "name": "stdout",
     "output_type": "stream",
     "text": [
      "roc_auc: 0.8879276733783328 (+/- 0.0031908882544880715) \n",
      "\n",
      "Wall time: 5min 17s\n"
     ]
    }
   ],
   "source": [
    "%%time\n",
    "\n",
    "svm_eval = model_eval(X_train, y_train, SVC())\n",
    "print(svm_eval['evaluation results'])"
   ]
  },
  {
   "cell_type": "code",
   "execution_count": 21,
   "metadata": {},
   "outputs": [
    {
     "name": "stdout",
     "output_type": "stream",
     "text": [
      "roc_auc: 0.8826269533501007 (+/- 0.0036024206411482108) \n",
      "\n",
      "Wall time: 6.65 s\n"
     ]
    }
   ],
   "source": [
    "%%time\n",
    "\n",
    "xgb_eval = model_eval(X_train, y_train, xgb.XGBClassifier(random_state = 8))\n",
    "print(xgb_eval['evaluation results'])"
   ]
  },
  {
   "cell_type": "code",
   "execution_count": 22,
   "metadata": {},
   "outputs": [
    {
     "name": "stdout",
     "output_type": "stream",
     "text": [
      "roc_auc: 0.9128642629458291 (+/- 0.003077283065879511) \n",
      "\n",
      "Wall time: 3.37 s\n"
     ]
    }
   ],
   "source": [
    "%%time\n",
    "\n",
    "lgb_eval = model_eval(X_train, y_train, lgb.LGBMClassifier(random_state = 8))\n",
    "print(lgb_eval['evaluation results'])"
   ]
  },
  {
   "cell_type": "markdown",
   "metadata": {},
   "source": [
    "##### Tuning"
   ]
  },
  {
   "cell_type": "code",
   "execution_count": 23,
   "metadata": {},
   "outputs": [],
   "source": [
    "from sklearn.model_selection import GridSearchCV\n",
    "from sklearn.model_selection import RandomizedSearchCV\n",
    "from skopt import BayesSearchCV\n",
    "\n",
    "def grid_model_eval(X, y, model, params):\n",
    "    \n",
    "    pipe = Pipeline([('scaler', StandardScaler()), ('model', model)])\n",
    "    grid = GridSearchCV(estimator = pipe, param_grid = params, \n",
    "                        scoring = 'roc_auc', n_jobs = -1,\n",
    "                        cv = 7)\n",
    "    grid.fit(X, y)\n",
    "    return grid\n",
    "\n",
    "def rand_model_eval(X, y, model, params, iters):\n",
    "        \n",
    "    pipe = Pipeline([('scaler', StandardScaler()), ('model', model)])\n",
    "    grid = RandomizedSearchCV(estimator = pipe, param_distributions = params, \n",
    "                              n_iter = iters, \n",
    "                              scoring = 'roc_auc', n_jobs = -1,\n",
    "                              cv = 7)\n",
    "    grid.fit(X, y)\n",
    "    return grid\n",
    "\n",
    "def bayes_model_eval(X, y, model, params, iters):\n",
    "        \n",
    "    pipe = Pipeline([('scaler', StandardScaler()), ('model', model)])\n",
    "    grid = BayesSearchCV(estimator = pipe, search_spaces = params, \n",
    "                              n_iter = iters, \n",
    "                              scoring = 'roc_auc', n_jobs = -1,\n",
    "                              cv = 7)\n",
    "    grid.fit(X, y)\n",
    "    return grid"
   ]
  },
  {
   "cell_type": "code",
   "execution_count": 19,
   "metadata": {},
   "outputs": [
    {
     "name": "stdout",
     "output_type": "stream",
     "text": [
      "Wall time: 7min 46s\n"
     ]
    },
    {
     "data": {
      "text/plain": [
       "0.9082225463839114"
      ]
     },
     "execution_count": 19,
     "metadata": {},
     "output_type": "execute_result"
    }
   ],
   "source": [
    "%%time\n",
    "\n",
    "#KNN & Grid\n",
    "params = {'model__n_neighbors': [3,5,7,9], 'model__weights': ['uniform', 'distance']}\n",
    "\n",
    "model = KNeighborsClassifier()\n",
    "knn_grid = grid_model_eval(X_train, y_train, model, params)\n",
    "knn_grid.best_score_"
   ]
  },
  {
   "cell_type": "code",
   "execution_count": 31,
   "metadata": {},
   "outputs": [
    {
     "name": "stdout",
     "output_type": "stream",
     "text": [
      "0.9082225463839114\n",
      "0.0023068759994371137\n",
      "{'model__n_neighbors': 9, 'model__weights': 'distance'}\n"
     ]
    }
   ],
   "source": [
    "knn_ind = knn_grid.best_index_\n",
    "print(knn_grid.cv_results_['mean_test_score'][knn_ind])\n",
    "print(knn_grid.cv_results_['std_test_score'][knn_ind])\n",
    "print(knn_grid.best_params_)"
   ]
  },
  {
   "cell_type": "code",
   "execution_count": 20,
   "metadata": {},
   "outputs": [
    {
     "name": "stdout",
     "output_type": "stream",
     "text": [
      "Wall time: 34min 34s\n"
     ]
    },
    {
     "data": {
      "text/plain": [
       "0.9299223743669724"
      ]
     },
     "execution_count": 20,
     "metadata": {},
     "output_type": "execute_result"
    }
   ],
   "source": [
    "%%time\n",
    "\n",
    "# Random Forest & RandomGrid\n",
    "params = {'model__n_estimators': list(range(100,1200,50)),\n",
    "          'model__min_samples_split': list(range(2,12)),\n",
    "          'model__max_depth': list(range(1, 40)), \n",
    "          'model__min_samples_leaf': list(range(1,15)),\n",
    "          'model__max_features': list(np.arange(0.4,0.95,0.05)),\n",
    "          'model__max_samples': list(np.arange(0.4,0.95,0.05)),\n",
    "          'model__random_state': [8]}\n",
    "\n",
    "model = RandomForestClassifier()\n",
    "rfr_rgrid = rand_model_eval(X_train, y_train, model, params, 30)\n",
    "rfr_rgrid.best_score_"
   ]
  },
  {
   "cell_type": "code",
   "execution_count": 37,
   "metadata": {},
   "outputs": [
    {
     "data": {
      "text/plain": [
       "Pipeline(memory=None,\n",
       "         steps=[('scaler',\n",
       "                 StandardScaler(copy=True, with_mean=True, with_std=True)),\n",
       "                ('model',\n",
       "                 RandomForestClassifier(bootstrap=True, ccp_alpha=0.0,\n",
       "                                        class_weight=None, criterion='gini',\n",
       "                                        max_depth=26,\n",
       "                                        max_features=0.6499999999999999,\n",
       "                                        max_leaf_nodes=None,\n",
       "                                        max_samples=0.7999999999999999,\n",
       "                                        min_impurity_decrease=0.0,\n",
       "                                        min_impurity_split=None,\n",
       "                                        min_samples_leaf=2, min_samples_split=4,\n",
       "                                        min_weight_fraction_leaf=0.0,\n",
       "                                        n_estimators=350, n_jobs=None,\n",
       "                                        oob_score=False, random_state=8,\n",
       "                                        verbose=0, warm_start=False))],\n",
       "         verbose=False)"
      ]
     },
     "execution_count": 37,
     "metadata": {},
     "output_type": "execute_result"
    }
   ],
   "source": [
    "rfr_rgrid.best_estimator_"
   ]
  },
  {
   "cell_type": "code",
   "execution_count": 28,
   "metadata": {},
   "outputs": [
    {
     "name": "stdout",
     "output_type": "stream",
     "text": [
      "0.9299223743669724\n",
      "0.002472785987764914\n",
      "{'model__random_state': 8, 'model__n_estimators': 350, 'model__min_samples_split': 4, 'model__min_samples_leaf': 2, 'model__max_samples': 0.7999999999999999, 'model__max_features': 0.6499999999999999, 'model__max_depth': 26}\n"
     ]
    }
   ],
   "source": [
    "rfr_ind = rfr_rgrid.best_index_\n",
    "print(rfr_rgrid.cv_results_['mean_test_score'][rfr_ind])\n",
    "print(rfr_rgrid.cv_results_['std_test_score'][rfr_ind])\n",
    "print(rfr_rgrid.best_params_)"
   ]
  },
  {
   "cell_type": "code",
   "execution_count": 21,
   "metadata": {},
   "outputs": [
    {
     "name": "stdout",
     "output_type": "stream",
     "text": [
      "Wall time: 1h 20min 17s\n"
     ]
    },
    {
     "data": {
      "text/plain": [
       "0.929378169647001"
      ]
     },
     "execution_count": 21,
     "metadata": {},
     "output_type": "execute_result"
    }
   ],
   "source": [
    "%%time\n",
    "\n",
    "# XGBoost & RandomGrid\n",
    "params = {'model__learning_rate': list(np.logspace(np.log(0.001), np.log(0.5), num = 30, base=2)),\n",
    "          'model__min_split_loss': list(range(0,8)),\n",
    "          'model__max_depth': list(range(1, 40)), \n",
    "          'model__min_child_weight': list(range(1,15)),\n",
    "          'model__subsample': list(np.arange(0.4,0.95,0.05)),\n",
    "          'model__colsample_bytree': list(np.arange(0.4,0.95,0.05)),\n",
    "          'model__n_estimators': list(range(100,1200,50)),\n",
    "          'model__seed': [8]}\n",
    "\n",
    "model = xgb.XGBClassifier()\n",
    "xgb_rgrid = rand_model_eval(X_train, y_train, model, params, 30)\n",
    "xgb_rgrid.best_score_"
   ]
  },
  {
   "cell_type": "code",
   "execution_count": 38,
   "metadata": {},
   "outputs": [
    {
     "data": {
      "text/plain": [
       "Pipeline(memory=None,\n",
       "         steps=[('scaler',\n",
       "                 StandardScaler(copy=True, with_mean=True, with_std=True)),\n",
       "                ('model',\n",
       "                 XGBClassifier(base_score=0.5, booster='gbtree',\n",
       "                               colsample_bylevel=1, colsample_bynode=1,\n",
       "                               colsample_bytree=0.7, gamma=0,\n",
       "                               learning_rate=0.042674257497373136,\n",
       "                               max_delta_step=0, max_depth=30,\n",
       "                               min_child_weight=2, min_split_loss=5,\n",
       "                               missing=None, n_estimators=1000, n_jobs=1,\n",
       "                               nthread=None, objective='binary:logistic',\n",
       "                               random_state=0, reg_alpha=0, reg_lambda=1,\n",
       "                               scale_pos_weight=1, seed=8, silent=None,\n",
       "                               subsample=0.7, verbosity=1))],\n",
       "         verbose=False)"
      ]
     },
     "execution_count": 38,
     "metadata": {},
     "output_type": "execute_result"
    }
   ],
   "source": [
    "xgb_rgrid.best_estimator_"
   ]
  },
  {
   "cell_type": "code",
   "execution_count": 32,
   "metadata": {},
   "outputs": [
    {
     "name": "stdout",
     "output_type": "stream",
     "text": [
      "0.929378169647001\n",
      "0.002688454649940205\n",
      "{'model__subsample': 0.7, 'model__seed': 8, 'model__n_estimators': 1000, 'model__min_split_loss': 5, 'model__min_child_weight': 2, 'model__max_depth': 30, 'model__learning_rate': 0.042674257497373136, 'model__colsample_bytree': 0.7}\n"
     ]
    }
   ],
   "source": [
    "xgb_ind = xgb_rgrid.best_index_\n",
    "print(xgb_rgrid.cv_results_['mean_test_score'][xgb_ind])\n",
    "print(xgb_rgrid.cv_results_['std_test_score'][xgb_ind])\n",
    "print(xgb_rgrid.best_params_)"
   ]
  },
  {
   "cell_type": "code",
   "execution_count": 42,
   "metadata": {},
   "outputs": [
    {
     "name": "stdout",
     "output_type": "stream",
     "text": [
      "Wall time: 3min 45s\n",
      "\n",
      "0.9244001692849823\n"
     ]
    }
   ],
   "source": [
    "%%time\n",
    "\n",
    "# Light GB & Bayes Grid\n",
    "params = {'model__bagging_fraction': list(np.arange(0.4,0.95,0.05)),\n",
    "          'model__bagging_freq': list(range(0,40, 5)),\n",
    "          'model__feature_fraction': list(np.arange(0.4,0.95,0.05)),\n",
    "          'model__max_depth': list(range(-1,30,2)),\n",
    "          'model__max_bin': list(range(200,300,5)),\n",
    "          'model__num_iterations': list(range(50,400,50)),\n",
    "          'model__learning_rate': list(np.logspace(np.log(0.001), np.log(0.5), num = 15, base=2)),\n",
    "          'model__min_data_in_leaf': list(range(10,50,2)),\n",
    "          'model__random_state': [5]}\n",
    "\n",
    "model = lgb.LGBMClassifier()\n",
    "lgb_bgrid = bayes_model_eval(X_train, y_train, model, params, 40)\n",
    "lgb_bgrid.best_score_"
   ]
  },
  {
   "cell_type": "code",
   "execution_count": 39,
   "metadata": {},
   "outputs": [
    {
     "data": {
      "text/plain": [
       "Pipeline(memory=None,\n",
       "         steps=[('scaler',\n",
       "                 StandardScaler(copy=True, with_mean=True, with_std=True)),\n",
       "                ('model',\n",
       "                 LGBMClassifier(bagging_fraction=0.8499999999999999,\n",
       "                                bagging_freq=25, boosting_type='gbdt',\n",
       "                                class_weight=None, colsample_bytree=1.0,\n",
       "                                feature_fraction=0.55, importance_type='split',\n",
       "                                learning_rate=0.24573088208517854, max_bin=205,\n",
       "                                max_depth=27, min_child_samples=20,\n",
       "                                min_child_weight=0.001, min_data_in_leaf=40,\n",
       "                                min_split_gain=0.0, n_estimators=100, n_jobs=-1,\n",
       "                                num_iterations=350, num_leaves=31,\n",
       "                                objective=None, random_state=5, reg_alpha=0.0,\n",
       "                                reg_lambda=0.0, silent=True, subsample=1.0,\n",
       "                                subsample_for_bin=200000, subsample_freq=0))],\n",
       "         verbose=False)"
      ]
     },
     "execution_count": 39,
     "metadata": {},
     "output_type": "execute_result"
    }
   ],
   "source": [
    "lgb_bgrid.best_estimator_"
   ]
  },
  {
   "cell_type": "code",
   "execution_count": 33,
   "metadata": {},
   "outputs": [
    {
     "name": "stdout",
     "output_type": "stream",
     "text": [
      "0.9244001692849823\n",
      "0.002953245349885798\n",
      "OrderedDict([('model__bagging_fraction', 0.8499999999999999), ('model__bagging_freq', 25), ('model__feature_fraction', 0.55), ('model__learning_rate', 0.24573088208517854), ('model__max_bin', 205), ('model__max_depth', 27), ('model__min_data_in_leaf', 40), ('model__num_iterations', 350), ('model__random_state', 5)])\n"
     ]
    }
   ],
   "source": [
    "lgb_ind = lgb_bgrid.best_index_\n",
    "print(lgb_bgrid.cv_results_['mean_test_score'][lgb_ind])\n",
    "print(lgb_bgrid.cv_results_['std_test_score'][lgb_ind])\n",
    "print(lgb_bgrid.best_params_)"
   ]
  },
  {
   "cell_type": "markdown",
   "metadata": {},
   "source": [
    "#### Models Comparison"
   ]
  },
  {
   "cell_type": "code",
   "execution_count": 66,
   "metadata": {},
   "outputs": [],
   "source": [
    "model_eval = [lr_eval, nb_eval, knn_eval, rf_eval, svm_eval, xgb_eval, lgb_eval]\n",
    "models_res = pd.DataFrame({'models':['Logistic Regression', 'Naive Bayes', 'KNN', 'Random Forest', 'SVM', 'XGB', 'LGBM'],\n",
    "                           'roc_auc':[evaluation['metric']['value'] for evaluation in model_eval],\n",
    "                           'std':[evaluation['metric']['std'] for evaluation in model_eval]})\n",
    "models_res['tuning'] = 'no'\n",
    "\n",
    "\n",
    "model_eval_new = [knn_grid, rfr_rgrid, xgb_rgrid, lgb_bgrid]\n",
    "models_res_new = pd.DataFrame({'models':['KNN', 'Random Forest', 'XGB', 'LGBM'],\n",
    "                           'roc_auc':[tuned.cv_results_['mean_test_score'][tuned.best_index_] for tuned in model_eval_new],\n",
    "                           'std':[tuned.cv_results_['std_test_score'][tuned.best_index_] for tuned in model_eval_new]})\n",
    "models_res_new['tuning'] = 'yes'\n",
    "all_models = pd.concat([models_res, models_res_new])"
   ]
  },
  {
   "cell_type": "code",
   "execution_count": 64,
   "metadata": {},
   "outputs": [
    {
     "data": {
      "text/plain": [
       "Text(0.5, 1.0, 'Models performance')"
      ]
     },
     "execution_count": 64,
     "metadata": {},
     "output_type": "execute_result"
    },
    {
     "data": {
      "image/png": "[encoded data removed]",
      "text/plain": [
       "<Figure size 576x360 with 1 Axes>"
      ]
     },
     "metadata": {},
     "output_type": "display_data"
    }
   ],
   "source": [
    "fig, axes = plt.subplots(figsize=(8,5))\n",
    "sns.barplot(y = 'roc_auc', x = 'models', data = all_models, palette=\"Set1\", \n",
    "            ax = axes, alpha = 0.6, hue = 'tuning')\n",
    "axes.tick_params(labelrotation=45)\n",
    "axes.set_ylim(bottom = 0.7)\n",
    "axes.set_title('Models performance')"
   ]
  },
  {
   "cell_type": "code",
   "execution_count": null,
   "metadata": {},
   "outputs": [],
   "source": []
  }
 ],
 "metadata": {
  "kernelspec": {
   "display_name": "Python 3",
   "language": "python",
   "name": "python3"
  },
  "language_info": {
   "codemirror_mode": {
    "name": "ipython",
    "version": 3
   },
   "file_extension": ".py",
   "mimetype": "text/x-python",
   "name": "python",
   "nbconvert_exporter": "python",
   "pygments_lexer": "ipython3",
   "version": "3.7.6"
  }
 },
 "nbformat": 4,
 "nbformat_minor": 4
}
